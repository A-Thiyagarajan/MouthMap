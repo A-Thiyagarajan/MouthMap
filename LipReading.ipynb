{
 "cells": [
  {
   "cell_type": "code",
   "execution_count": 1,
   "metadata": {},
   "outputs": [],
   "source": [
    "import tensorflow as tf\n",
    "import numpy as np\n",
    "import matplotlib.pyplot as plt\n",
    "import cv2\n",
    "import imageio as im\n",
    "import os"
   ]
  },
  {
   "cell_type": "code",
   "execution_count": 2,
   "metadata": {},
   "outputs": [],
   "source": [
    "import cv2\n",
    "import numpy as np\n",
    "\n",
    "def preprocess_video(video_path):\n",
    "    cap = cv2.VideoCapture(video_path)\n",
    "    frames = []\n",
    "    while cap.isOpened():\n",
    "        ret, frame = cap.read()\n",
    "        if not ret:\n",
    "            break\n",
    "        gray_frame = cv2.cvtColor(frame, cv2.COLOR_BGR2GRAY)\n",
    "        mouth_crop = gray_frame[190:236, 80:220]  # Crop mouth region\n",
    "        frames.append(mouth_crop)\n",
    "    cap.release()\n",
    "\n",
    "    # Normalize frames\n",
    "    frames = np.array(frames, dtype=np.float32)\n",
    "    mean = np.mean(frames)\n",
    "    std = np.std(frames)\n",
    "    normalized_frames = (frames - mean) / std\n",
    "    return normalized_frames\n"
   ]
  },
  {
   "cell_type": "code",
   "execution_count": 3,
   "metadata": {},
   "outputs": [],
   "source": [
    "def parse_alignment(alignment_path, vocab):\n",
    "    with open(alignment_path, 'r') as f:\n",
    "        lines = f.readlines()\n",
    "    \n",
    "    tokens = []\n",
    "    for line in lines:\n",
    "        start, end, word = line.strip().split()\n",
    "        if word != \"sil\":\n",
    "            tokens.append(\" \")\n",
    "            tokens.extend(list(word))\n",
    "    return [vocab[char] for char in tokens if char in vocab]\n"
   ]
  },
  {
   "cell_type": "code",
   "execution_count": null,
   "metadata": {},
   "outputs": [],
   "source": []
  }
 ],
 "metadata": {
  "kernelspec": {
   "display_name": "Python 3",
   "language": "python",
   "name": "python3"
  },
  "language_info": {
   "codemirror_mode": {
    "name": "ipython",
    "version": 3
   },
   "file_extension": ".py",
   "mimetype": "text/x-python",
   "name": "python",
   "nbconvert_exporter": "python",
   "pygments_lexer": "ipython3",
   "version": "3.11.9"
  }
 },
 "nbformat": 4,
 "nbformat_minor": 2
}
